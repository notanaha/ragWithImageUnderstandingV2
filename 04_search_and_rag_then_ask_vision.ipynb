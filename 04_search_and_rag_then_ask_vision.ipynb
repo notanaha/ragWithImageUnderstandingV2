{
 "cells": [
  {
   "cell_type": "code",
   "execution_count": null,
   "metadata": {},
   "outputs": [],
   "source": [
    "import os\n",
    "from IPython.display import Image\n",
    "import openai\n",
    "from azure.storage.blob import BlobServiceClient\n",
    "\n",
    "import utils\n",
    "from dotenv import load_dotenv\n",
    "load_dotenv(\".env\")"
   ]
  },
  {
   "cell_type": "markdown",
   "metadata": {},
   "source": [
    "### SET VARIABLES"
   ]
  },
  {
   "cell_type": "code",
   "execution_count": null,
   "metadata": {},
   "outputs": [],
   "source": [
    "aoai_endpoint = os.environ[\"AZURE_OPENAI_ENDPOINT\"]\n",
    "aoai_api_key = os.environ[\"AZURE_OPENAI_API_KEY\"]\n",
    "aoai_api_version = os.environ[\"AZURE_OPENAI_API_VERSION\"]\n",
    "aoai_embedding_model = os.environ[\"AZURE_OPENAI_EMBEDDING_MODEL\"]\n",
    "aoai_chat_model = os.environ[\"AZURE_OPENAI_CHAT_MODEL\"]\n",
    "\n",
    "client = openai.AzureOpenAI(\n",
    "    azure_endpoint=aoai_endpoint,\n",
    "    api_key=aoai_api_key,\n",
    "    api_version=aoai_api_version\n",
    ")\n",
    "    \n",
    "connection_string = os.environ[\"STORAGE_CONN_STR\"]\n",
    "storage_sas_token = os.environ[\"STORAGE_SAS_TOKEN\"]\n",
    "container_name = os.environ[\"CONTAINER_NAME\"] \n",
    "separator_word = os.environ[\"SEPARATOR_WORD\"]"
   ]
  },
  {
   "cell_type": "markdown",
   "metadata": {},
   "source": [
    "### PERFORM A HYBRID SEARCH"
   ]
  },
  {
   "cell_type": "code",
   "execution_count": null,
   "metadata": {},
   "outputs": [],
   "source": [
    "import json\n",
    "query = \"ペットボトルの投棄方法は 1 から 9 番のどれですか？\" \n",
    "answer_context = utils.search_index(query, client, aoai_embedding_model)\n",
    "answer_context"
   ]
  },
  {
   "cell_type": "markdown",
   "metadata": {},
   "source": [
    "### RAG Query to gpt-4o"
   ]
  },
  {
   "cell_type": "code",
   "execution_count": null,
   "metadata": {},
   "outputs": [],
   "source": [
    "with open(\"./system_message_01.txt\", \"r\", encoding = 'utf-8') as f:\n",
    "    system_message = f.read()"
   ]
  },
  {
   "cell_type": "code",
   "execution_count": null,
   "metadata": {},
   "outputs": [],
   "source": [
    "messages = []\n",
    "messages.append({\"role\": \"system\",\"content\": system_message})\n",
    "\n",
    "content = {}\n",
    "content[\"question\"] = query\n",
    "content[\"context\"] = answer_context\n",
    "messages.append({\"role\": \"user\", \"content\": str(content)})\n"
   ]
  },
  {
   "cell_type": "code",
   "execution_count": null,
   "metadata": {},
   "outputs": [],
   "source": [
    "response = utils.gpt4o_query(messages, client, aoai_chat_model)\n",
    "answer = response.choices[0].message.content\n",
    "\n",
    "answer = json.loads(answer)\n",
    "print(answer)"
   ]
  },
  {
   "cell_type": "code",
   "execution_count": null,
   "metadata": {},
   "outputs": [],
   "source": [
    "for num, item in enumerate(answer[\"answers\"]):\n",
    "    if not item[\"answer\"].startswith(\"Sorry\"):\n",
    "        print(\"answer[\"+ str(num) + \"]: \", item[\"answer\"])\n",
    "        print(\"  page[\"+ str(num) + \"]: \", item[\"page\"])"
   ]
  },
  {
   "cell_type": "markdown",
   "metadata": {},
   "source": [
    "### Get URL of the 'title' image"
   ]
  },
  {
   "cell_type": "code",
   "execution_count": null,
   "metadata": {},
   "outputs": [],
   "source": [
    "blob_service_client = BlobServiceClient.from_connection_string(connection_string)\n",
    "image_urls = []\n",
    "\n",
    "for item in answer[\"answers\"]:\n",
    "    if not item[\"answer\"].startswith(\"Sorry\"):\n",
    "        blob_name = item[\"page\"]\n",
    "        image_titles_and_urls = utils.list_blobs_titles_and_urls(blob_service_client, container_name, blob_name)\n",
    "        if image_titles_and_urls:\n",
    "            image_urls.append(image_titles_and_urls)\n",
    "\n",
    "if len(image_urls) == 0:\n",
    "    print(\"No images found.\")\n",
    "\n",
    "image_urls"
   ]
  },
  {
   "cell_type": "markdown",
   "metadata": {},
   "source": [
    "## Sending a new message to gpt-4o vision"
   ]
  },
  {
   "cell_type": "markdown",
   "metadata": {},
   "source": [
    "### Construct a new message with a single image"
   ]
  },
  {
   "cell_type": "code",
   "execution_count": null,
   "metadata": {},
   "outputs": [],
   "source": [
    "with open(\"./system_message_02.txt\", \"r\", encoding = 'utf-8') as f:\n",
    "    system_message = f.read()"
   ]
  },
  {
   "cell_type": "code",
   "execution_count": null,
   "metadata": {},
   "outputs": [],
   "source": [
    "answer_string = ', '.join(json.dumps(item, ensure_ascii=False) for item in answer[\"answers\"] \\\n",
    "                          if not item[\"answer\"].startswith(\"Sorry\"))\n",
    "answer_string"
   ]
  },
  {
   "cell_type": "code",
   "execution_count": null,
   "metadata": {},
   "outputs": [],
   "source": [
    "messages = []\n",
    "messages.append({\"role\": \"system\",\"content\": system_message})\n",
    "\n",
    "content = []\n",
    "content.append({\"type\": \"text\", \"text\": \"query: \" + query})\n",
    "content.append({\"type\": \"text\", \"text\":\"answer from gpt-4o: \" + answer_string})\n",
    "\n",
    "for url in image_urls:    # pick up the relevant images\n",
    "    storagepath = url['title']\n",
    "    storagepath_stem = os.path.splitext(storagepath)[0]\n",
    "    if not (storagepath_stem[-3] == separator_word and storagepath_stem[-2:].isdigit()):\n",
    "        storagepath_stem += separator_word + '01' # storagepath doesn't have a number suffix\n",
    "    for item in answer[\"answers\"]:\n",
    "        if storagepath_stem == item['page']:\n",
    "            content.append({\"type\": \"text\", \"text\": storagepath_stem})\n",
    "            content.append({\"type\": \"image_url\", \"image_url\": {\"url\": url['url']+storage_sas_token}})\n",
    "            break\n",
    "\n",
    "messages.append({\"role\": \"user\",\"content\":content})"
   ]
  },
  {
   "cell_type": "code",
   "execution_count": null,
   "metadata": {},
   "outputs": [],
   "source": [
    "messages"
   ]
  },
  {
   "cell_type": "markdown",
   "metadata": {},
   "source": [
    "### Ask gpt-4o"
   ]
  },
  {
   "cell_type": "code",
   "execution_count": null,
   "metadata": {},
   "outputs": [],
   "source": [
    "response = utils.gpt4o_query(messages, client, aoai_chat_model)\n",
    "answer = response.choices[0].message.content\n",
    "\n",
    "answer = json.loads(answer)\n",
    "print(answer)"
   ]
  },
  {
   "cell_type": "code",
   "execution_count": null,
   "metadata": {},
   "outputs": [],
   "source": [
    "print(answer[\"answer\"])\n",
    "print(answer[\"citation\"])"
   ]
  },
  {
   "cell_type": "markdown",
   "metadata": {},
   "source": [
    "### Download and show the image"
   ]
  },
  {
   "cell_type": "code",
   "execution_count": null,
   "metadata": {},
   "outputs": [],
   "source": [
    "for url in image_urls:    # pick up the relevant images\n",
    "    storagepath = url['title']\n",
    "\n",
    "    utils.list_blobs_download(blob_service_client, container_name, storagepath)\n",
    "    print(\"\\n\",storagepath)\n",
    "    display(Image(filename=storagepath))"
   ]
  },
  {
   "cell_type": "markdown",
   "metadata": {},
   "source": [
    "## Maintain the massage"
   ]
  },
  {
   "cell_type": "code",
   "execution_count": null,
   "metadata": {},
   "outputs": [],
   "source": [
    "utils.append_conversation_history(messages, response, role=\"assistant\")\n",
    "print(messages)"
   ]
  },
  {
   "cell_type": "markdown",
   "metadata": {},
   "source": [
    "### Send the consecutive query"
   ]
  },
  {
   "cell_type": "code",
   "execution_count": null,
   "metadata": {},
   "outputs": [],
   "source": [
    "messages.append({\"role\": \"user\",\"content\":[\n",
    "    {\"type\": \"text\", \"text\": \"ビンは何番ですか？\"}, \n",
    "]})\n",
    "response = utils.gpt4o_query(messages, client, aoai_chat_model)\n",
    "answer = response.choices[0].message.content\n",
    "\n",
    "answer = json.loads(answer)\n",
    "print(answer)"
   ]
  },
  {
   "cell_type": "markdown",
   "metadata": {},
   "source": [
    "### END OF SCRIPT"
   ]
  }
 ],
 "metadata": {
  "kernelspec": {
   "display_name": "py12",
   "language": "python",
   "name": "python3"
  },
  "language_info": {
   "codemirror_mode": {
    "name": "ipython",
    "version": 3
   },
   "file_extension": ".py",
   "mimetype": "text/x-python",
   "name": "python",
   "nbconvert_exporter": "python",
   "pygments_lexer": "ipython3",
   "version": "3.12.9"
  }
 },
 "nbformat": 4,
 "nbformat_minor": 2
}
