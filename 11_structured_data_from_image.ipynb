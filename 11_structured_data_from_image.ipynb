{
 "cells": [
  {
   "cell_type": "code",
   "execution_count": null,
   "metadata": {},
   "outputs": [],
   "source": [
    "import os, json\n",
    "import openai\n",
    "\n",
    "from dotenv import load_dotenv\n",
    "load_dotenv(\".env\")\n",
    "\n",
    "aoai_endpoint = os.environ[\"AZURE_OPENAI_ENDPOINT_o1\"]\n",
    "aoai_api_key = os.environ[\"AZURE_OPENAI_API_KEY_o1\"]\n",
    "api_version = os.environ[\"AZURE_OPENAI_API_VERSION\"]\n",
    "chat_model = os.environ[\"AZURE_OPENAI_CHAT_MODEL_o1\"]\n",
    "\n",
    "client = openai.AzureOpenAI( \n",
    "    azure_endpoint=aoai_endpoint,\n",
    "    api_key=aoai_api_key,\n",
    "    api_version= api_version\n",
    ")"
   ]
  },
  {
   "cell_type": "markdown",
   "metadata": {},
   "source": [
    "### Convert an image to Base64 encoded"
   ]
  },
  {
   "cell_type": "code",
   "execution_count": null,
   "metadata": {},
   "outputs": [],
   "source": [
    "import base64\n",
    "from mimetypes import guess_type\n",
    "\n",
    "# Function to encode a local image into data URL \n",
    "def local_image_to_data_url(image_path):\n",
    "    # Guess the MIME type of the image based on the file extension\n",
    "    mime_type, _ = guess_type(image_path)\n",
    "    if mime_type is None:\n",
    "        mime_type = 'application/octet-stream'  # Default MIME type if none is found\n",
    "\n",
    "    # Read and encode the image file\n",
    "    with open(image_path, \"rb\") as image_file:\n",
    "        base64_encoded_data = base64.b64encode(image_file.read()).decode('utf-8')\n",
    "\n",
    "    # Construct the data URL\n",
    "    return base64_encoded_data"
   ]
  },
  {
   "cell_type": "code",
   "execution_count": null,
   "metadata": {},
   "outputs": [],
   "source": [
    "base64_sample = local_image_to_data_url(\"./sample1.png\")\n",
    "base64_test01 = local_image_to_data_url(\"./sample2.jpg\")\n",
    "url_sample = {\"url\": \"data:image/jpeg;base64,\" + base64_sample}\n",
    "url_test01 = {\"url\": \"data:image/jpeg;base64,\" + base64_test01}"
   ]
  },
  {
   "cell_type": "code",
   "execution_count": null,
   "metadata": {},
   "outputs": [],
   "source": [
    "with open(\"./system_message_11.txt\", \"r\", encoding = 'utf-8') as f:\n",
    "    user_prompt_template = f.read()\n",
    "\n",
    "messages = []\n",
    "content = []\n",
    "content.append({\"type\": \"text\", \"text\": user_prompt_template})\n",
    "content.append({\"type\": \"text\", \"text\":\"添付1\"})\n",
    "content.append({\"type\": \"image_url\", \"image_url\": url_sample})\n",
    "content.append({\"type\": \"text\", \"text\":\"添付2\"})\n",
    "content.append({\"type\": \"image_url\", \"image_url\": url_test01})\n",
    "\n",
    "messages.append({\"role\": \"user\",\"content\":content})"
   ]
  },
  {
   "cell_type": "code",
   "execution_count": null,
   "metadata": {},
   "outputs": [],
   "source": [
    "response = client.chat.completions.create(\n",
    "    model=chat_model, \n",
    "    messages=messages,\n",
    "    reasoning_effort=\"high\",\n",
    "#    max_completion_tokens=4000 \n",
    ")\n",
    "response_message = response.choices[0].message\n",
    "messages.append(response_message)\n",
    "answer = response_message.content\n",
    "print(answer)"
   ]
  },
  {
   "cell_type": "code",
   "execution_count": null,
   "metadata": {},
   "outputs": [],
   "source": [
    "messages.append({\"role\": \"user\",\"content\": \"<Further Question>\"})\n",
    "\n",
    "response = client.chat.completions.create(\n",
    "    model=chat_model, \n",
    "    messages=messages,\n",
    ")\n",
    "response_message = response.choices[0].message\n",
    "messages.append(response_message)\n",
    "print(response_message.content)"
   ]
  },
  {
   "cell_type": "markdown",
   "metadata": {},
   "source": [
    "### gpt-4o"
   ]
  },
  {
   "cell_type": "code",
   "execution_count": null,
   "metadata": {},
   "outputs": [],
   "source": [
    "aoai_endpoint = os.environ[\"AZURE_OPENAI_ENDPOINT\"]\n",
    "aoai_api_key = os.environ[\"AZURE_OPENAI_API_KEY\"]\n",
    "api_version = os.environ[\"AZURE_OPENAI_API_VERSION\"]\n",
    "chat_model = os.environ[\"AZURE_OPENAI_CHAT_MODEL\"]\n",
    "\n",
    "client = openai.AzureOpenAI( \n",
    "    azure_endpoint=aoai_endpoint,\n",
    "    api_key=aoai_api_key,\n",
    "    api_version= api_version\n",
    ")"
   ]
  },
  {
   "cell_type": "code",
   "execution_count": null,
   "metadata": {},
   "outputs": [],
   "source": [
    "with open(\"./system_message_11.txt\", \"r\", encoding = 'utf-8') as f:\n",
    "    user_prompt_template = f.read()\n",
    "\n",
    "messages = []\n",
    "content = []\n",
    "content.append({\"type\": \"text\", \"text\": user_prompt_template})\n",
    "content.append({\"type\": \"text\", \"text\":\"添付1\"})\n",
    "content.append({\"type\": \"image_url\", \"image_url\": url_sample})\n",
    "content.append({\"type\": \"text\", \"text\":\"添付2\"})\n",
    "content.append({\"type\": \"image_url\", \"image_url\": url_test01})\n",
    "\n",
    "messages.append({\"role\": \"user\",\"content\":content})"
   ]
  },
  {
   "cell_type": "code",
   "execution_count": null,
   "metadata": {},
   "outputs": [],
   "source": [
    "response = client.chat.completions.create(\n",
    "    model=chat_model, \n",
    "    messages=messages,\n",
    "    temperature=0.0\n",
    ")\n",
    "response_message = response.choices[0].message\n",
    "messages.append(response_message)\n",
    "answer = response_message.content\n",
    "print(answer)"
   ]
  }
 ],
 "metadata": {
  "kernelspec": {
   "display_name": "py12",
   "language": "python",
   "name": "python3"
  },
  "language_info": {
   "codemirror_mode": {
    "name": "ipython",
    "version": 3
   },
   "file_extension": ".py",
   "mimetype": "text/x-python",
   "name": "python",
   "nbconvert_exporter": "python",
   "pygments_lexer": "ipython3",
   "version": "3.12.9"
  }
 },
 "nbformat": 4,
 "nbformat_minor": 2
}
